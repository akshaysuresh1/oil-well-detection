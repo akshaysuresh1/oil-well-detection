{
 "cells": [
  {
   "cell_type": "markdown",
   "id": "e07c452e-2734-4222-9b79-0312748a11e5",
   "metadata": {},
   "source": [
    "&copy; 2024, Akshay Suresh \n",
    "\n",
    "<center><h3>Deep Learning for Oil Well Detection in Satellite Imagery</h3></center>\n",
    "<br>\n",
    "\n",
    "**Objective:** Train a neural network to detect oil wells in satellite images. The algorithm should return a list of coordinates of all possible wells in the image.\n",
    "\n",
    "### Sections\n",
    "\n",
    "1. [Exploratory Data Analysis](#eda)\n",
    "2. [Model Selection](#model-selection) <br>\n",
    "    i) [Chosen Approach: Few-shot Transfer Learning for Binary Semantic Segmentation Using U-Net](#chosen-model) <br>\n",
    "    ii) [Model Limitation and Alternate Approaches](#other-approaches)\n",
    "3. [Data Preparation](#data-prep) <br>\n",
    "   i) [Train-validation split](#data-split) <br>\n",
    "   ii) [Data Scaling and Augmentation](#data-aug)\n",
    "4. [Model Training](#model-training) <br>\n",
    "    i) [Chosen Loss Function: Dice Loss](#loss-function) <br>\n",
    "    ii) [Loss Curve](#loss-curve)\n",
    "5. [Future Work and Additional Insights](#future-work) <br>\n",
    "\n",
    "---\n"
   ]
  },
  {
   "cell_type": "code",
   "execution_count": 1,
   "id": "c2ba7c74-0b14-4c37-9d18-db1252d4fbef",
   "metadata": {},
   "outputs": [],
   "source": [
    "%matplotlib inline\n",
    "import matplotlib.pyplot as plt\n",
    "import numpy as np\n",
    "import pandas as pd\n",
    "import torch\n",
    "from scipy.stats import ks_2samp\n",
    "from torchsummary import summary\n",
    "from scripts.data_utils import custom_train_val_split\n",
    "from scripts.unet_model import UNet"
   ]
  },
  {
   "cell_type": "markdown",
   "id": "2b3a3b90-c7a9-438c-8dc2-d247d00cbbd0",
   "metadata": {},
   "source": [
    "### 1. Exploratory Data Analysis (EDA) <a name=\"eda\"></a>\n",
    "\n",
    "The `data_raw` folder contains all original data supplied for the challenge, which includes 294 .tif images and a .csv file of 1753 labeled oil wells. As a first step, let's inspect how these wells look in .tif images as well as study their frequency of occurrence across images.\n",
    "\n",
    "The script `parse_tif.py` reads in .tif images one by one and checks for labeled wells contained inside each image. For every input .tif image, `parse_tif.py` outputs two data products.\n",
    "1. A .png raster plot of the RGB geospatial data with labeled wells marked as light blue scatter points.\n",
    "2. A .csv file of well locations enclosed within the image grid\n",
    "\n",
    "In addition to the above outputs, `parse_tif.py` also generates a file `summary.csv` that keeps count of the number of labeled wells found in each image."
   ]
  },
  {
   "cell_type": "code",
   "execution_count": 2,
   "id": "eeb6cd40-3131-45bc-b6f0-9668b7e175d6",
   "metadata": {},
   "outputs": [
    {
     "name": "stdout",
     "output_type": "stream",
     "text": [
      "2024-02-18 04:17:50 AM - INFO - Processing .tif file 1 out of 294\n",
      "2024-02-18 04:17:53 AM - INFO - Processing .tif file 11 out of 294\n",
      "2024-02-18 04:17:55 AM - INFO - Processing .tif file 21 out of 294\n",
      "2024-02-18 04:17:57 AM - INFO - Processing .tif file 31 out of 294\n",
      "2024-02-18 04:17:59 AM - INFO - Processing .tif file 41 out of 294\n",
      "2024-02-18 04:18:01 AM - INFO - Processing .tif file 51 out of 294\n",
      "2024-02-18 04:18:04 AM - INFO - Processing .tif file 61 out of 294\n",
      "2024-02-18 04:18:06 AM - INFO - Processing .tif file 71 out of 294\n",
      "2024-02-18 04:18:08 AM - INFO - Processing .tif file 81 out of 294\n",
      "2024-02-18 04:18:10 AM - INFO - Processing .tif file 91 out of 294\n",
      "2024-02-18 04:18:12 AM - INFO - Processing .tif file 101 out of 294\n",
      "2024-02-18 04:18:15 AM - INFO - Processing .tif file 111 out of 294\n",
      "2024-02-18 04:18:17 AM - INFO - Processing .tif file 121 out of 294\n",
      "2024-02-18 04:18:19 AM - INFO - Processing .tif file 131 out of 294\n",
      "2024-02-18 04:18:21 AM - INFO - Processing .tif file 141 out of 294\n",
      "2024-02-18 04:18:24 AM - INFO - Processing .tif file 151 out of 294\n",
      "2024-02-18 04:18:26 AM - INFO - Processing .tif file 161 out of 294\n",
      "2024-02-18 04:18:29 AM - INFO - Processing .tif file 171 out of 294\n",
      "2024-02-18 04:18:31 AM - INFO - Processing .tif file 181 out of 294\n",
      "2024-02-18 04:18:34 AM - INFO - Processing .tif file 191 out of 294\n",
      "2024-02-18 04:18:37 AM - INFO - Processing .tif file 201 out of 294\n",
      "2024-02-18 04:18:39 AM - INFO - Processing .tif file 211 out of 294\n",
      "2024-02-18 04:18:41 AM - INFO - Processing .tif file 221 out of 294\n",
      "2024-02-18 04:18:44 AM - INFO - Processing .tif file 231 out of 294\n",
      "2024-02-18 04:18:46 AM - INFO - Processing .tif file 241 out of 294\n",
      "2024-02-18 04:18:48 AM - INFO - Processing .tif file 251 out of 294\n",
      "2024-02-18 04:18:50 AM - INFO - Processing .tif file 261 out of 294\n",
      "2024-02-18 04:18:53 AM - INFO - Processing .tif file 271 out of 294\n",
      "2024-02-18 04:18:56 AM - INFO - Processing .tif file 281 out of 294\n",
      "2024-02-18 04:18:58 AM - INFO - Processing .tif file 291 out of 294\n",
      "2024-02-18 04:18:59 AM - INFO - Processing .tif file 294 out of 294\n"
     ]
    },
    {
     "data": {
      "text/plain": [
       "<Figure size 640x480 with 0 Axes>"
      ]
     },
     "metadata": {},
     "output_type": "display_data"
    }
   ],
   "source": [
    "%run scripts/parse_tif.py -tif data_raw/images -loc data_raw/well_locations.csv -out eda"
   ]
  },
  {
   "cell_type": "markdown",
   "id": "0f026383-5ed1-49fb-8806-6c90ee9f479f",
   "metadata": {},
   "source": [
    "**How are the labeled oil wells distributed across various images?**"
   ]
  },
  {
   "cell_type": "code",
   "execution_count": 3,
   "id": "5d745b31-7f93-4ced-a4b6-aa70ce861b0d",
   "metadata": {},
   "outputs": [
    {
     "data": {
      "text/html": [
       "<div>\n",
       "<style scoped>\n",
       "    .dataframe tbody tr th:only-of-type {\n",
       "        vertical-align: middle;\n",
       "    }\n",
       "\n",
       "    .dataframe tbody tr th {\n",
       "        vertical-align: top;\n",
       "    }\n",
       "\n",
       "    .dataframe thead th {\n",
       "        text-align: right;\n",
       "    }\n",
       "</style>\n",
       "<table border=\"1\" class=\"dataframe\">\n",
       "  <thead>\n",
       "    <tr style=\"text-align: right;\">\n",
       "      <th></th>\n",
       "      <th>Image</th>\n",
       "      <th>Well count</th>\n",
       "    </tr>\n",
       "  </thead>\n",
       "  <tbody>\n",
       "    <tr>\n",
       "      <th>0</th>\n",
       "      <td>data_raw/images/img_16674_13252.tif</td>\n",
       "      <td>3</td>\n",
       "    </tr>\n",
       "    <tr>\n",
       "      <th>1</th>\n",
       "      <td>data_raw/images/img_16675_13255.tif</td>\n",
       "      <td>0</td>\n",
       "    </tr>\n",
       "    <tr>\n",
       "      <th>2</th>\n",
       "      <td>data_raw/images/img_16883_13437.tif</td>\n",
       "      <td>2</td>\n",
       "    </tr>\n",
       "    <tr>\n",
       "      <th>3</th>\n",
       "      <td>data_raw/images/img_16884_13439.tif</td>\n",
       "      <td>1</td>\n",
       "    </tr>\n",
       "    <tr>\n",
       "      <th>4</th>\n",
       "      <td>data_raw/images/img_16937_13315.tif</td>\n",
       "      <td>5</td>\n",
       "    </tr>\n",
       "  </tbody>\n",
       "</table>\n",
       "</div>"
      ],
      "text/plain": [
       "                                 Image  Well count\n",
       "0  data_raw/images/img_16674_13252.tif           3\n",
       "1  data_raw/images/img_16675_13255.tif           0\n",
       "2  data_raw/images/img_16883_13437.tif           2\n",
       "3  data_raw/images/img_16884_13439.tif           1\n",
       "4  data_raw/images/img_16937_13315.tif           5"
      ]
     },
     "execution_count": 3,
     "metadata": {},
     "output_type": "execute_result"
    }
   ],
   "source": [
    "counts_df = pd.read_csv('eda/summary.csv')\n",
    "counts_df.head()"
   ]
  },
  {
   "cell_type": "code",
   "execution_count": 4,
   "id": "8953e502-29c6-4bcf-9862-9dcc482eb479",
   "metadata": {},
   "outputs": [
    {
     "data": {
      "text/html": [
       "<div>\n",
       "<style scoped>\n",
       "    .dataframe tbody tr th:only-of-type {\n",
       "        vertical-align: middle;\n",
       "    }\n",
       "\n",
       "    .dataframe tbody tr th {\n",
       "        vertical-align: top;\n",
       "    }\n",
       "\n",
       "    .dataframe thead th {\n",
       "        text-align: right;\n",
       "    }\n",
       "</style>\n",
       "<table border=\"1\" class=\"dataframe\">\n",
       "  <thead>\n",
       "    <tr style=\"text-align: right;\">\n",
       "      <th></th>\n",
       "      <th>Image</th>\n",
       "      <th>Well count</th>\n",
       "    </tr>\n",
       "  </thead>\n",
       "  <tbody>\n",
       "    <tr>\n",
       "      <th>268</th>\n",
       "      <td>data_raw/images/img_21524_14588.tif</td>\n",
       "      <td>91</td>\n",
       "    </tr>\n",
       "  </tbody>\n",
       "</table>\n",
       "</div>"
      ],
      "text/plain": [
       "                                   Image  Well count\n",
       "268  data_raw/images/img_21524_14588.tif          91"
      ]
     },
     "execution_count": 4,
     "metadata": {},
     "output_type": "execute_result"
    }
   ],
   "source": [
    "# Which data file contains the greatest number of wells?\n",
    "counts_df.loc[counts_df['Well count']==counts_df['Well count'].max()]"
   ]
  },
  {
   "cell_type": "code",
   "execution_count": 5,
   "id": "67370a04-c9f0-4a8d-8175-6c17dbe37e61",
   "metadata": {},
   "outputs": [
    {
     "data": {
      "image/png": "[encoded data removed]",
      "text/plain": [
       "<Figure size 600x400 with 1 Axes>"
      ]
     },
     "metadata": {},
     "output_type": "display_data"
    }
   ],
   "source": [
    "# Histogram of well counts per image\n",
    "fig1 = plt.figure(1, figsize=(6,4), tight_layout=True)\n",
    "plt.hist(counts_df['Well count'], histtype='bar', bins=91, facecolor='azure', edgecolor='k')\n",
    "plt.xlabel('Number of wells per .tif image', fontsize=14)\n",
    "plt.ylabel('Frequency', fontsize=14)\n",
    "plt.show()"
   ]
  },
  {
   "cell_type": "markdown",
   "id": "34248012-c54d-4037-9578-66e1313d35e0",
   "metadata": {},
   "source": [
    "Of our 294 .tif files, 88 images contain no labeled wells. From the remainder 206 .tif files, 26 images contain 911 labeled wells, i.e., over 50% of labels. Our target labels are evidently unevenly distributed across input images."
   ]
  },
  {
   "cell_type": "markdown",
   "id": "62376192-b859-4a7a-8b61-4c55d55b9c37",
   "metadata": {},
   "source": [
    "Let's visualize some representative images to develop an understanding of what an oil well looks like in an RGB satellite image. In the below raster plots, blue scatter points mark the coordinates of labeled oil wells.\n",
    "\n",
    "<div style=\"display: flex; flex-wrap: wrap;\">\n",
    "    <div style=\"flex: 45%; padding: 5px;\">\n",
    "        <img src=\"https://github.com/akshaysuresh1/oil-well-detection/blob/main/misc_images/img_21524_14588_wells.png?raw=True\" alt=\"img_21524_14588\" width=\"600\" />\n",
    "        <p style=\"text-align: center;\"><i>(a) 91 labeled wells observed in low spatial resolution.</i></p>\n",
    "    </div>\n",
    "    <div style=\"flex: 45%; padding: 5px;\">\n",
    "        <img src=\"https://github.com/akshaysuresh1/oil-well-detection/blob/main/misc_images/img_21311_11428_wells.png?raw=True\" alt=\"img_21311_11428\" width=\"600\" />\n",
    "        <p style=\"text-align: center;\"><i>(b) 52 labeled wells seen in low spatial resolution</i></p>\n",
    "    </div>\n",
    "</div>\n",
    "\n",
    "<div style=\"display: flex; flex-wrap: wrap;\">\n",
    "    <div style=\"flex: 45%; padding: 5px;\">\n",
    "        <img src=\"https://github.com/akshaysuresh1/oil-well-detection/blob/main/misc_images/img_20708_13514_wells.png?raw=True\" alt=\"img_20708_13514\" width=\"600\" />\n",
    "        <p style=\"text-align: center;\"><i>(c) An ordered arrangement of 35 labeled wells</i></p>\n",
    "    </div>\n",
    "    <div style=\"flex: 45%; padding: 5px;\">\n",
    "        <img src=\"https://github.com/akshaysuresh1/oil-well-detection/blob/main/misc_images/img_18304_13573_wells.png?raw=True\" alt=\"img_18304_13573\" width=\"600\" />\n",
    "        <p style=\"text-align: center;\"><i>(d) 12 wells viewed in high spatial resolution</i></p>\n",
    "    </div>\n",
    "</div>\n",
    "\n",
    "<div style=\"display: flex; flex-wrap: wrap;\">\n",
    "    <div style=\"flex: 45%; padding: 5px;\">\n",
    "        <img src=\"https://github.com/akshaysuresh1/oil-well-detection/blob/main/misc_images/img_17096_13685_wells.png?raw=True\" alt=\"img_17096_13685\" width=\"600\" />\n",
    "        <p style=\"text-align: center;\"><i>(e) 2 wells, each seen with dark spots close to their centroids and rectangular enclosing boundaries.</i></p>\n",
    "    </div>\n",
    "    <div style=\"flex: 45%; padding: 5px;\">\n",
    "        <img src=\"https://github.com/akshaysuresh1/oil-well-detection/blob/main/misc_images/img_21587_11313_wells.png?raw=True\" alt=\"img_21587_11313\" width=\"600\" />\n",
    "        <p style=\"text-align: center;\"><i>(f) 6 wells surrounded by circular rims</i></p>\n",
    "    </div>\n",
    "</div>"
   ]
  },
  {
   "cell_type": "markdown",
   "id": "7f83c635-3e5c-415f-a948-04f78b1019d3",
   "metadata": {},
   "source": [
    "As seen above, satellite images show a large diversity of background terrain. Further, the appearance of an oil well changes drastically based on the image's spatial resolution. Satellite images, when captured at higher [off-nadir angles](https://www.euspaceimaging.com/what-is-ona-off-nadir-angle-in-satellite-imagery/), can cover greater expanses of area albeit with poorer spatial resolution. \n",
    "\n",
    "All 294 .tif images in this study share a common pixel resolution of about 0.1545 arcseconds along both longitude and latitude. Panels (a) &ndash; (c) were likely taken by the satellite at larger off-nadir angles than in panels (d) &ndash; (f). Visual identification of oil wells from panels (a) &ndash; (c) solely is challenging without any prior knowledge of the defining characteristics of an oil well. Instead, what can one learn about oil wells from the comparatively high spatial resolution images such as those in panels (c) – (f)?\n",
    "\n",
    "1. Most oil wells have a black spot located close to them in their satellite images.\n",
    "2. Oil wells tend to be surrounded by well-defined rectangular or circular boundaries.\n",
    "3. Oil wells have road connections.\n",
    "4. Oil wells exhibit a variety of spatial orientations in images.\n",
    "5. In most images, oil wells show no regular clustering pattern. The grid-like arrangement seen in panel (c) seems to be an outlier.\n",
    "\n",
    "**Idea:** As a first pass, train a deep learning model to identify oil wells using the (comparatively) high spatial resolution images at hand. During model training, one can randomly blur images with an isotropic 2D Gaussian filter to mimic a low spatial resolution scenario. That way, the model learns to adapt to input images with diverse spatial resolution.\n",
    "\n",
    "---"
   ]
  },
  {
   "cell_type": "markdown",
   "id": "59ecf5b5-fc10-447f-9ce9-01f1d808f578",
   "metadata": {},
   "source": [
    "### 2. Model Selection <a name=\"model-selection\"></a>\n",
    "\n",
    "Traditional deep learning models have typically relied on large amounts of accurately annotated training data, which can be difficult and costly to obtain. As an alternative, [transfer learning](https://www.sciencedirect.com/topics/computer-science/transfer-learning) has emerged as a valuable technique in modern deep learning applications.\n",
    "\n",
    "Transfer learning involves adapting a model trained on one dataset to another domain, often with minimal modifications (few-shot learning) or even without any adjustments (zero-shot learning). In the case of few-shot learning, the model's final layers are fine-tuned using a small amount of high-quality domain-specific labeled data.\n",
    "\n",
    "Considering the limited availability of only 294 .tif images at the outset, few-shot transfer learning holds promise for effective oil well detection in this project."
   ]
  },
  {
   "cell_type": "markdown",
   "id": "9854bb67-6980-4999-8a4d-be50dafa57af",
   "metadata": {},
   "source": [
    "#### 2.1 Chosen Approach: Few-shot Transfer Learning for Binary Semantic Segmentation Using U-Net <a name=\"chosen-model\"></a>\n",
    "\n",
    "[Semantic segmentation](https://www.ibm.com/topics/semantic-segmentation) is a computer vision technique that attempts to assign a class label to each and every pixel in an input image. In this study, pixels in an input image can have one of two class labels.\n",
    "\n",
    "| Class label | Description|\n",
    "|:-------------------------:|:-------------------------:|\n",
    "|0| Pixel is not part of an oil well. |\n",
    "|1| Pixel is part of an oil well. |\n",
    "\n",
    "The U-Net model, pioneered by [Ronneberger, Fischer & Brox (2015)](https://arxiv.org/abs/1505.04597), is a popular architecture for semantic segmentation problems. First trained for biomedical image segmentation tasks, this model efficiently leverages small amounts of data while retaining speed and accuracy. The diagram below shows the U-Net architecture developed by [Buda, Saha & Mazurowski (2019)](https://doi.org/10.1016/j.compbiomed.2019.05.002) for abnormality segmentation in human brain MRI scans. The model's name draws inspiration from its bowl-shaped architecture diagram comprising of two components – an encoder network forming a contracting path and a decoder network constituting an expansive path. \n",
    "\n",
    "The contracting path is a typical feed-forward convolutional neural network involving max-pooling layers sandwiched between series of convolutional layers with ReLU activation functions. In the architecture below, batch normalization has been introduced after every convolutional layer to mitigate against exploding gradients during backpropagation. The contracting path learns the broad context of an image at multiple scales, progressively reducing the image spatial resolution.\n",
    "\n",
    "The decoder network complements the contraction by identifying localized structures in images through a sequence of up-convolutions and concatenations of outputs from the encoder network. Finally, the output of the decoder network is normalized to a probability mask using a sigmoid function. \n",
    "\n",
    "<div>\n",
    "<center><img src=\"https://github.com/akshaysuresh1/oil-well-detection/blob/main/misc_images/unet_model.png?raw=True\" alt=\"U-Net model architecture\" width=\"900\" /></center>\n",
    "<p><center><i>U-Net model architecture designed by <a href=\"https://doi.org/10.1016/j.compbiomed.2019.05.002\">Buda, Saha & Mazurowski (2019)</a>. Figure generated by self using Microsoft Powerpoint.</i></center></p>\n",
    "</div>\n",
    "\n",
    "**References for the above model architecture and pretrained weights:** \n",
    "- <u>Article:</u>\n",
    "  Mateusz Buda, Ashirbani Saha, Maciej A. Mazurowski,\n",
    "  *Association of genomic subtypes of lower-grade gliomas with shape features automatically extracted by a deep learning algorithm*,\n",
    "[Computers in Biology and Medicine, Volume 109, 2019, Pages 218-225, ISSN 0010-4825](https://doi.org/10.1016/j.compbiomed.2019.05.002).\n",
    "\n",
    "- <u>Github repository of PyTorch model implementation:</u> [https://github.com/mateuszbuda/brain-segmentation-pytorch](https://github.com/mateuszbuda/brain-segmentation-pytorch)"
   ]
  },
  {
   "cell_type": "markdown",
   "id": "79854f6a-031f-4e8f-a5a7-27ca6982beb3",
   "metadata": {},
   "source": [
    "**Strategy:** In this study, I load pretrained parameters from the U-Net model trained by [Buda, Saha & Mazurowski (2019)](https://doi.org/10.1016/j.compbiomed.2019.05.002) and then retrain the weights in the final few decoder layers. Layers with weights unfrozen for training are indicated by a pale yellow box in the above architecture diagram."
   ]
  },
  {
   "cell_type": "code",
   "execution_count": 6,
   "id": "494497c5-c068-41e5-b344-7fd1a9de99b3",
   "metadata": {},
   "outputs": [],
   "source": [
    "# Load U-Net model and verify model architecture.\n",
    "N_input_channels = 3 # RGB\n",
    "N_output_channels = 1 # Binary segementation mask\n",
    "model = UNet(N_input_channels, N_output_channels)"
   ]
  },
  {
   "cell_type": "code",
   "execution_count": 7,
   "id": "5e1e0d86-d131-479a-ac87-cf52bbc69019",
   "metadata": {},
   "outputs": [
    {
     "name": "stdout",
     "output_type": "stream",
     "text": [
      "----------------------------------------------------------------\n",
      "        Layer (type)               Output Shape         Param #\n",
      "================================================================\n",
      "            Conv2d-1         [-1, 32, 256, 256]             864\n",
      "       BatchNorm2d-2         [-1, 32, 256, 256]              64\n",
      "              ReLU-3         [-1, 32, 256, 256]               0\n",
      "            Conv2d-4         [-1, 32, 256, 256]           9,216\n",
      "       BatchNorm2d-5         [-1, 32, 256, 256]              64\n",
      "              ReLU-6         [-1, 32, 256, 256]               0\n",
      "         MaxPool2d-7         [-1, 32, 128, 128]               0\n",
      "            Conv2d-8         [-1, 64, 128, 128]          18,432\n",
      "       BatchNorm2d-9         [-1, 64, 128, 128]             128\n",
      "             ReLU-10         [-1, 64, 128, 128]               0\n",
      "           Conv2d-11         [-1, 64, 128, 128]          36,864\n",
      "      BatchNorm2d-12         [-1, 64, 128, 128]             128\n",
      "             ReLU-13         [-1, 64, 128, 128]               0\n",
      "        MaxPool2d-14           [-1, 64, 64, 64]               0\n",
      "           Conv2d-15          [-1, 128, 64, 64]          73,728\n",
      "      BatchNorm2d-16          [-1, 128, 64, 64]             256\n",
      "             ReLU-17          [-1, 128, 64, 64]               0\n",
      "           Conv2d-18          [-1, 128, 64, 64]         147,456\n",
      "      BatchNorm2d-19          [-1, 128, 64, 64]             256\n",
      "             ReLU-20          [-1, 128, 64, 64]               0\n",
      "        MaxPool2d-21          [-1, 128, 32, 32]               0\n",
      "           Conv2d-22          [-1, 256, 32, 32]         294,912\n",
      "      BatchNorm2d-23          [-1, 256, 32, 32]             512\n",
      "             ReLU-24          [-1, 256, 32, 32]               0\n",
      "           Conv2d-25          [-1, 256, 32, 32]         589,824\n",
      "      BatchNorm2d-26          [-1, 256, 32, 32]             512\n",
      "             ReLU-27          [-1, 256, 32, 32]               0\n",
      "        MaxPool2d-28          [-1, 256, 16, 16]               0\n",
      "           Conv2d-29          [-1, 512, 16, 16]       1,179,648\n",
      "      BatchNorm2d-30          [-1, 512, 16, 16]           1,024\n",
      "             ReLU-31          [-1, 512, 16, 16]               0\n",
      "           Conv2d-32          [-1, 512, 16, 16]       2,359,296\n",
      "      BatchNorm2d-33          [-1, 512, 16, 16]           1,024\n",
      "             ReLU-34          [-1, 512, 16, 16]               0\n",
      "  ConvTranspose2d-35          [-1, 256, 32, 32]         524,544\n",
      "           Conv2d-36          [-1, 256, 32, 32]       1,179,648\n",
      "      BatchNorm2d-37          [-1, 256, 32, 32]             512\n",
      "             ReLU-38          [-1, 256, 32, 32]               0\n",
      "           Conv2d-39          [-1, 256, 32, 32]         589,824\n",
      "      BatchNorm2d-40          [-1, 256, 32, 32]             512\n",
      "             ReLU-41          [-1, 256, 32, 32]               0\n",
      "  ConvTranspose2d-42          [-1, 128, 64, 64]         131,200\n",
      "           Conv2d-43          [-1, 128, 64, 64]         294,912\n",
      "      BatchNorm2d-44          [-1, 128, 64, 64]             256\n",
      "             ReLU-45          [-1, 128, 64, 64]               0\n",
      "           Conv2d-46          [-1, 128, 64, 64]         147,456\n",
      "      BatchNorm2d-47          [-1, 128, 64, 64]             256\n",
      "             ReLU-48          [-1, 128, 64, 64]               0\n",
      "  ConvTranspose2d-49         [-1, 64, 128, 128]          32,832\n",
      "           Conv2d-50         [-1, 64, 128, 128]          73,728\n",
      "      BatchNorm2d-51         [-1, 64, 128, 128]             128\n",
      "             ReLU-52         [-1, 64, 128, 128]               0\n",
      "           Conv2d-53         [-1, 64, 128, 128]          36,864\n",
      "      BatchNorm2d-54         [-1, 64, 128, 128]             128\n",
      "             ReLU-55         [-1, 64, 128, 128]               0\n",
      "  ConvTranspose2d-56         [-1, 32, 256, 256]           8,224\n",
      "           Conv2d-57         [-1, 32, 256, 256]          18,432\n",
      "      BatchNorm2d-58         [-1, 32, 256, 256]              64\n",
      "             ReLU-59         [-1, 32, 256, 256]               0\n",
      "           Conv2d-60         [-1, 32, 256, 256]           9,216\n",
      "      BatchNorm2d-61         [-1, 32, 256, 256]              64\n",
      "             ReLU-62         [-1, 32, 256, 256]               0\n",
      "           Conv2d-63          [-1, 1, 256, 256]              33\n",
      "================================================================\n",
      "Total params: 7,763,041\n",
      "Trainable params: 7,763,041\n",
      "Non-trainable params: 0\n",
      "----------------------------------------------------------------\n",
      "Input size (MB): 0.75\n",
      "Forward/backward pass size (MB): 404.00\n",
      "Params size (MB): 29.61\n",
      "Estimated Total Size (MB): 434.36\n",
      "----------------------------------------------------------------\n"
     ]
    }
   ],
   "source": [
    "summary(model, (3, 256, 256))"
   ]
  },
  {
   "cell_type": "markdown",
   "id": "3708df9f-7511-4a4d-8091-18091dcd477b",
   "metadata": {},
   "source": [
    "The above U-Net model, if to be trained from scratch, would have over 7.7 million trainable parameters."
   ]
  },
  {
   "cell_type": "code",
   "execution_count": 8,
   "id": "da116c2f-e11e-4747-85d0-2695308746c1",
   "metadata": {},
   "outputs": [
    {
     "name": "stdout",
     "output_type": "stream",
     "text": [
      "No. of trainable model parameters for transfer learning = 179713\n"
     ]
    }
   ],
   "source": [
    "# Load pretrained weights.\n",
    "pretrained_state_dict = torch.load('unet_weights/unet_pretrained_weights.pt',map_location=torch.device('cpu'))\n",
    "# Freeze all layers.\n",
    "for param in model.parameters():\n",
    "    param.requires_grad = False\n",
    "# Unfreeze weights in final few layers.\n",
    "for param in model.conv.parameters():\n",
    "    param.requires_grad = True\n",
    "for param in model.decoder1.parameters():\n",
    "    param.requires_grad = True\n",
    "for param in model.upconv1.parameters():\n",
    "    param.requires_grad = True\n",
    "for param in model.decoder2.parameters():\n",
    "    param.requires_grad = True\n",
    "for param in model.upconv2.parameters():\n",
    "    param.requires_grad = True\n",
    "# Compute the number of trainable parameters\n",
    "model_parameters = filter(lambda p: p.requires_grad, model.parameters())\n",
    "trainable_params = sum([np.prod(p.size()) for p in model_parameters])\n",
    "print('No. of trainable model parameters for transfer learning = %d'% (trainable_params))"
   ]
  },
  {
   "cell_type": "markdown",
   "id": "faacbb43-cf86-45cd-be9e-ae1f2829278d",
   "metadata": {},
   "source": [
    "Training about 180,000 parameters seems more reasonable with the limited data at hand."
   ]
  },
  {
   "cell_type": "markdown",
   "id": "e897f7e6-0a65-41cc-8f57-597428a3f9ba",
   "metadata": {},
   "source": [
    "Returning to the problem statement, the objective is to return the coordinates of all potential oil wells in the image. Here, I train a U-Net model via transfer learning to process the RGB satellite image. This model outputs binary segmentation masks. After obtaining the segmentation masks, I apply K-means clustering to locate the pixel coordinates of candidate oil well centroids. These centroids are then transformed into longitude and latitude coordinates using the georeferenced axes of the input .tif image.\n",
    "\n",
    "<center><img src=\"https://github.com/akshaysuresh1/oil-well-detection/blob/main/misc_images/approach.png?raw=True\" alt=\"Problem solving approach\" width=\"800\" /></center>"
   ]
  },
  {
   "cell_type": "markdown",
   "id": "ce3f1660-7401-46b6-b0a3-a94743e3351e",
   "metadata": {},
   "source": [
    "#### 2.2 Model Limitation and Alternate Approaches <a name=\"other-approaches\"></a>\n",
    "\n",
    "Semantic segmentation is inadequate at distinguishing between different instances of the same class. Thus, I employ K-means clustering to segregate pixels corresponding to individual oil wells. However, K-means clustering may inaccurately group together oil wells that share a boundary.\n",
    "\n",
    "- Object detection models like the Single Shot Multibox Detector ([Liu et al., 2015](https://arxiv.org/abs/1512.02325)) can \n",
    "accurately locate and distinguish between multiple oil wells using rectangular bounding boxes, albeit with the loss of fine-grained information on the shape of each well.\n",
    "\n",
    "- Instance segmentation combines the strengths of both semantic segmentation and object detection. It provides detailed, pixel-wise segmentation maps for each candidate oil well, effectively overcoming the challenge of differentiating between overlapping or adjacent oil wells while capturing their shapes with high granularity. However, this method entails higher computational costs compared to semantic segmentation or object detection models.\n",
    "\n",
    "---"
   ]
  },
  {
   "cell_type": "markdown",
   "id": "72c55d0e-2b04-419e-b1e2-a63bd19d0130",
   "metadata": {},
   "source": [
    "### 3. Data Preparation <a name=\"data-prep\"></a>\n",
    "\n",
    "**Data set for machine learning:** After visually reviewing all available data, I selected a subset of 203 images for machine learning (ML) purposes. For an image to be included in the ML set, at least 75% of labeled oil wells in the image had to exhibit two or more of the following characteristics.\n",
    "- Presence of black spots nearby\n",
    "- Visible road connections\n",
    "- Clearly defined ridges demarcating their boundaries (often rectangular or circular).\n",
    "\n",
    "I created masks for semantic segmentation by manually delineating the boundaries of oil wells using [Roboflow](https://roboflow.com/). \n",
    "I incorporated into the masks, visible road connections to oil wells wherever possible, to assist the ML model in recognizing oil wells as structures with road connections. Below is an example image from the ML set along with its corresponding mask.\n",
    "\n",
    "<center><img src=\"https://github.com/akshaysuresh1/oil-well-detection/blob/main/misc_images/image_mask.png?raw=True\" alt=\"Image with mask\" width=\"800\" /></center>\n",
    "<center><p><i><b>Left:</b> An RGB satellite image. <b>Middle:</b> Binary mask manually created for semantic segmentation. <b>Right:</b> Binary mask superposed on background RGB satellite image to reveal regions marked as belonging to one or more oil wells.</i></p></center>\n",
    "\n",
    "All ML-ready images and masks can be found in the `ml_data` folder."
   ]
  },
  {
   "cell_type": "markdown",
   "id": "b8d4c541-53d0-4e2d-820d-2acf8b200e55",
   "metadata": {},
   "source": [
    "#### 3.1 Train-validation split <a name=\"data-split\"></a>\n",
    "\n",
    "<div>\n",
    "<center><img src=\"https://github.com/akshaysuresh1/oil-well-detection/blob/main/misc_images/hist_MLset.png?raw=True\" alt=\"Histogram of labeled oil well counts per image\" width=\"500\" /></center>\n",
    "<p><center><i>Histogram of labeled oil well counts in the 203 ML-ready images</i></center></p>\n",
    "</div>\n",
    "    \n",
    "The histogram above illustrates the distribution of labeled oil well counts per image in the ML dataset. Notably, the majority of images do not contain any labeled oil wells, and even when present, these wells occupy only a small portion of the image. Consequently, there is a significant data imbalance across segmentation classes, both at the pixel and image levels.\n",
    "\n",
    "In such scenarios, randomly partitioning the ML data into training and validation sets is not recommended. For example, in an 80-20 train-validation split, with nearly 43% of the 203 images containing no wells, a random partition could lead to a validation set exclusively comprised of images containing no labeled oil wells. This could result in a model achieving artificially high performance on the validation set by focusing solely on background pixels and ignoring foreground pixels representing oil wells. \n",
    "\n",
    "Let `bool_wells` denote a Boolean flag indicating whether an image contains at least one labeled oil well. One could potentially partition the ML dataset on `bool_wells` and execute random train-validation splits separately on each such partition. However, this approach also carries a risk. Consider a data split of ``bool_wells = True``, where the small number of images with larger well counts get included in the validation set alone. Note that images with larger well counts tend to have poorer spatial resolution, leading to fewer foreground pixels per oil well in comparison to the high spatial resolution images. Upon training with the high spatial resolution images exclusively, a model may then not generalize well to the low spatial resolution counterparts in the validation set.\n",
    "\n",
    "To address data imbalance at the image level, I therefore propose the following scheme.\n",
    "\n",
    "1. Define $M$ as the maximum number of labeled oil wells in a single image from the ML set and assume a fractional validation set size of $x$.\n",
    "2. Build a histogram of oil well counts per image, with one bin per integer well count in the range $[0, M]$.\n",
    "3. For bins with frequencies greater than or equal to $1/x$, implement a stratified train-validation split based on integer well counts.\n",
    "4. Group the remaining images and randomly distribute them between the training set and validation set in the ratio $(1−x):x$.\n",
    "\n",
    "The histogram at the top of this section demonstrates the aforementioned data splitting scheme for $x=0.2$, resulting in a training set of 161 images and a validation set of 42 images. Furthermore, the below figure highlights the success of the scheme in achieving remarkably similar well count distributions across images in the training and validation sets."
   ]
  },
  {
   "cell_type": "code",
   "execution_count": 9,
   "id": "0943f9a3-0810-4997-b2c5-ebfe569a356d",
   "metadata": {},
   "outputs": [],
   "source": [
    "mlset_df = pd.read_csv('eda/curated_set.csv')\n",
    "img_train, img_val = custom_train_val_split('eda/curated_set.csv', val_size=0.2)\n",
    "# Names of images in the training and validation  set\n",
    "img_train = set(img_train)\n",
    "img_val = set(img_val)\n",
    "# Well counts in training and validation set images\n",
    "wellcount_train = []\n",
    "wellcount_val = []\n",
    "for i, record in mlset_df.iterrows():\n",
    "    if record['Image'] in img_train:\n",
    "        wellcount_train.append(record['Well count'])\n",
    "    else:\n",
    "        wellcount_val.append(record['Well count'])\n",
    "# Bin well counts separately for training and validation data.\n",
    "M = mlset_df['Well count'].max()\n",
    "bins = np.arange(M+2)-0.5 # 1 bin per integer well count in the range [0, M]\n",
    "pdf_train, _ = np.histogram(wellcount_train, bins=bins, density=True)\n",
    "pdf_val, _ = np.histogram(wellcount_val, bins=bins, density=True)"
   ]
  },
  {
   "cell_type": "code",
   "execution_count": 10,
   "id": "b0541866-1180-4777-aa38-f95ade5a021c",
   "metadata": {},
   "outputs": [
    {
     "data": {
      "image/png": "[encoded data removed]",
      "text/plain": [
       "<Figure size 600x400 with 1 Axes>"
      ]
     },
     "metadata": {},
     "output_type": "display_data"
    }
   ],
   "source": [
    "fig2 = plt.figure(num=2, figsize=(6,4), tight_layout=True)\n",
    "plt.hist(wellcount_train, bins=bins, density=True, facecolor='navajowhite', edgecolor='k', alpha=0.7, label='Training data')\n",
    "plt.hist(wellcount_val, bins=bins, density=True, facecolor='slateblue', edgecolor='k', alpha=0.5, label='Validation data')\n",
    "plt.xlabel('Count of labeled oil wells per image', fontsize=14)\n",
    "plt.ylabel('Probability density function', fontsize=14)\n",
    "plt.legend(loc='best', fontsize=12)\n",
    "plt.xticks(fontsize=12)\n",
    "plt.yticks(fontsize=12)\n",
    "plt.show()"
   ]
  },
  {
   "cell_type": "markdown",
   "id": "25c527ff-a727-4240-8b21-33be464b1188",
   "metadata": {},
   "source": [
    "One can statistically quantify the similarity between the two probability density functions (PDFs) in the above figure using the [Kolmogorov-Smirnov test](https://arize.com/blog-course/kolmogorov-smirnov-test/). <br>\n",
    "**Null hypothesis, $H_0$:** Histograms of well counts for the training and validation datasets share the same underlying distribution. <br>\n",
    "**Alternate hypothesis, $H_1$:** Histograms of well counts for the training and validation datasets come from different distributions. <br>\n",
    "\n",
    "Setting a confidence level of 95%, I will reject $H_0$ in favor of $H_1$ if the p-value is less than 0.05."
   ]
  },
  {
   "cell_type": "code",
   "execution_count": 11,
   "id": "17661d50-e2ef-486c-8982-2e8723124bd1",
   "metadata": {},
   "outputs": [
    {
     "data": {
      "text/plain": [
       "KstestResult(statistic=0.16666666666666666, pvalue=0.9024001944012529, statistic_location=0.018633540372670808, statistic_sign=1)"
      ]
     },
     "execution_count": 11,
     "metadata": {},
     "output_type": "execute_result"
    }
   ],
   "source": [
    "# Compute 2-sample KS test.\n",
    "ks_2samp(pdf_train, pdf_val)"
   ]
  },
  {
   "cell_type": "markdown",
   "id": "f10f2b86-d8a5-4263-a52a-38caf8a84471",
   "metadata": {},
   "source": [
    "The p-value obtained is signficantly higher than 0.05, thereby favoring the null hypothesis $H_0$."
   ]
  },
  {
   "cell_type": "markdown",
   "id": "1fbdbaec-195c-4dde-ba24-6cff80005451",
   "metadata": {},
   "source": [
    "#### 3.2 Data Scaling and Augmentation <a name=\"data-aug\"></a>\n",
    "\n",
    "Neural networks often benefit from having their inputs scaled to the range [0, 1] or [-1, 1]. Activation functions such as the ReLU and the sigmoid function can best capture non-linearities when their inputs are close to zero. Furthermore, such scaling can prevent weights from getting biased by features with larger absolute magnitudes, facilitating faster convergence to the optimal model parameters. **In preparation for model training, I linearly scaled integer RGB image data from their respective min-max values to [0, 1], ensuring the outputs are cast as floats.**\n",
    "\n",
    "Data augmentation is essential for enhancing model performance by amplifying the quantity of training data and lowering the risk of positional biases. By artificially diversifying the training dataset through operations such as flipping, rotation, cropping, and Gaussian blurring, data augmentation can enable a model to learn robust patterns and generalize better to unseen data. In this study, I implemented data augmentation through the following actions specified in the file `scripts/data_utils.py`."
   ]
  },
  {
   "cell_type": "markdown",
   "id": "eb73135c",
   "metadata": {},
   "source": [
    "1. Flip 50% of training images horizontally at every epoch. \n",
    "2. Flip 50% of training images vertically at every epoch. \n",
    "3. Blur 50% of training images via convolution with an isotropic 2D Gaussian filter of standard deviation $s$ pixels, where $s$ is a floating-point value randomly sampled from a uniform distribution over (0, 1]. \n",
    "\n",
    "---"
   ]
  },
  {
   "cell_type": "markdown",
   "id": "95ddbe54-d3bb-4a64-bded-62d58f61b763",
   "metadata": {},
   "source": [
    "### 4. Model Training <a name=\"model-training\"></a>\n",
    "\n",
    "Command line call from base directory: `python scripts/train.py -i config/train.cfg`\n",
    "\n",
    "I trained my U-Net model for 2000 epochs using batch gradient descent with a batch size of 32 and an initial learning rate of $10^{-5}$. Throughout training, I employed the Adam optimizer to dynamically adjust the learning rate, with the goal of minimizing the Dice loss. The training process was completed in 12 hours using an NVIDIA A40 GPU.\n",
    "\n",
    "#### 4.1 Chosen Loss Function: Dice Loss <a name=\"loss-function\"></a>\n",
    "\n",
    "The training and validation datasets now share the same distribution of oil well counts per image. However, within each image, the background class (label 0) dominates the foreground class (label 1) in pixel count. To address this pixel-level imbalance, it is crucial to choose a loss criterion that performs equally well on images with different counts of labeled oil wells. This is where the Dice loss becomes invaluable. \n",
    "\n",
    "Given pixel-level maps of ground truth class labels $Y$ and predicted labels $P$ , the Dice loss of an image is defined as follows.\n",
    "\\begin{align}\n",
    "{\\rm Dice \\ loss \\ } &= 1 - \\frac{2 |Y \\cap P| +1}{|Y| + |P| + 1} \\\\\n",
    "&= 1 - \\frac{2 \\times {\\rm True \\ Positives} + 1}{2 \\times {\\rm True \\ Positives} + {\\rm False \\ Positives} + {\\rm False \\ Negatives} + 1}.\n",
    "\\end{align}\n",
    "Here, $|.|$ indicates the operation of summing over pixel values in a map. Note that for a perfect segmentation, $Y=P$ and the Dice loss is 0. Meanwhile, for a null segmentation, $P=0$ and the Dice loss approaches 1 with increasing number of foreground pixels in $Y$.  Minimizing the Dice loss thus entails high performance on training images with different counts of labeled oil wells. \n",
    "\n",
    "Another loss function that addresses pixel-level class imbalance similarly is the Jaccard loss, defined as:\n",
    "\\begin{align}\n",
    "{\\rm Jaccard \\ loss \\ } &= 1 - \\frac{|Y\\cap P| +1 }{|Y \\cup P| + 1} \\\\\n",
    "&= 1 -  \\frac{{\\rm True \\ Positives} + 1}{{\\rm True \\ Positives} + {\\rm False \\ Positives}  + {\\rm False \\ Negatives} + 1}.\n",
    "\\end{align}\n",
    "Like the Dice loss, the Jaccard loss also equals 0 for perfect segmentation.\n",
    "\n",
    "Weighted distribution-based losses such as the balanced cross-entropy and the focal loss are also viable alternatives, however requiring tuning of their respective hyperparameters for optimal results.\n",
    "\n",
    "#### 4.2 Loss curve <a name=\"loss-curve\"></a>"
   ]
  },
  {
   "cell_type": "code",
   "execution_count": 12,
   "id": "e089d120-ef8c-423f-a6d2-d84e14ebccf1",
   "metadata": {},
   "outputs": [],
   "source": [
    "# Load loss curve data.\n",
    "results_df = pd.read_csv('results_epoch2000/model_loss.csv')"
   ]
  },
  {
   "cell_type": "code",
   "execution_count": 13,
   "id": "c7d74974-9073-4bc2-ba87-9086bb5e6303",
   "metadata": {},
   "outputs": [
    {
     "data": {
      "image/png": "[encoded data removed]",
      "text/plain": [
       "<Figure size 600x400 with 1 Axes>"
      ]
     },
     "metadata": {},
     "output_type": "display_data"
    }
   ],
   "source": [
    "# Plot loss curve data.\n",
    "fig3 = plt.figure(num=3, figsize=(6,4), tight_layout=True)\n",
    "plt.plot(results_df['train_loss'], color='navajowhite', linestyle='-', label='Training data')\n",
    "plt.plot(results_df['val_loss'], color='slateblue', linestyle='-', label='Validation data')\n",
    "plt.xlabel('Training epoch number', fontsize=14)\n",
    "plt.ylabel('Dice loss averaged over batches', fontsize=14)\n",
    "plt.legend(loc='best', fontsize=12)\n",
    "plt.xticks(fontsize=12)\n",
    "plt.yticks(fontsize=12)\n",
    "plt.show()"
   ]
  },
  {
   "cell_type": "markdown",
   "id": "3b9374da-7116-4d47-b4dd-4b5741d9412d",
   "metadata": {},
   "source": [
    "Initially, the training and validation losses start off at similar values. However, over time, the training loss decays more rapidly than the validation loss, suggesting that the model has begun to overfit the training data.\n",
    "\n",
    "Strategies to counter overfitting include gathering more training data, reducing the number of trainable parameters. and introducing regularization techniques such as dropout during model trainining.\n",
    "\n",
    "--- "
   ]
  },
  {
   "cell_type": "markdown",
   "id": "2d7d1650-4548-4e28-b799-43fdf77d4aab",
   "metadata": {},
   "source": [
    "### 5. Future Work and Additional Insights <a name=\"future-work\"></a> \n",
    "\n",
    "In this study, the satellite images analyzed encompass a diverse array of landscapes, featuring oil wells scattered across various terrains. Recognizing the necessity of training a model adept at accurately detecting oil wells amidst diverse backgrounds, the integration of data augmentation through generative adversarial networks (GANs: [Goodfellow et al., 2014](https://arxiv.org/abs/1406.2661)) emerges as a promising avenue for exploration. By leveraging a subset of super-resolved oil wells extracted from different terrains at a fixed spatial resolution as input for a GAN, a high-quality synthetic dataset can be generated. This synthetic dataset, enriched with diverse backgrounds, can serve as a valuable asset for augmenting the training data. Not only does it bolster the volume of the training dataset, but it also introduces crucial statistical terrain variability, thereby mitigating the risk of overfitting during model training.\n",
    "\n",
    "**Questions for future thought:**\n",
    "1. What additional data augmentation algorithms can I apply to the satellite data at hand? Are there specific data augmentation routines that must be avoided?\n",
    "2. How does one teach a computer vision model to adapt successfully to images of different spatial resolution?"
   ]
  },
  {
   "cell_type": "markdown",
   "id": "738c1790-bd8a-41d4-92a9-0111e0ead5ae",
   "metadata": {},
   "source": [
    "--- "
   ]
  }
 ],
 "metadata": {
  "kernelspec": {
   "display_name": "Python 3 (ipykernel)",
   "language": "python",
   "name": "python3"
  },
  "language_info": {
   "codemirror_mode": {
    "name": "ipython",
    "version": 3
   },
   "file_extension": ".py",
   "mimetype": "text/x-python",
   "name": "python",
   "nbconvert_exporter": "python",
   "pygments_lexer": "ipython3",
   "version": "3.11.7"
  }
 },
 "nbformat": 4,
 "nbformat_minor": 5
}
